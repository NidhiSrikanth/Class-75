{
  "nbformat": 4,
  "nbformat_minor": 0,
  "metadata": {
    "colab": {
      "name": "project 109",
      "provenance": [],
      "authorship_tag": "ABX9TyNod3Qgrf4BURdh5cgHhctc",
      "include_colab_link": true
    },
    "kernelspec": {
      "name": "python3",
      "display_name": "Python 3"
    },
    "language_info": {
      "name": "python"
    }
  },
  "cells": [
    {
      "cell_type": "markdown",
      "metadata": {
        "id": "view-in-github",
        "colab_type": "text"
      },
      "source": [
        "<a href=\"https://colab.research.google.com/github/NidhiSrikanth/Class-75/blob/main/project_109.ipynb\" target=\"_parent\"><img src=\"https://colab.research.google.com/assets/colab-badge.svg\" alt=\"Open In Colab\"/></a>"
      ]
    },
    {
      "cell_type": "code",
      "metadata": {
        "colab": {
          "base_uri": "https://localhost:8080/"
        },
        "id": "0KNPpFuxLXDe",
        "outputId": "a489a430-b2f4-4353-ec07-b33ee4edcc1b"
      },
      "source": [
        "import pandas as pd\n",
        "import statistics\n",
        "import csv\n",
        "\n",
        "df= pd.read_csv(\"StudentsPerformance.csv\")\n",
        "math_list= df[\"math score\"].to_list()\n",
        "reading_list= df[\"reading score\"].to_list()\n",
        "writing_list= df[\"writing score\"].to_list()\n",
        "\n",
        "#mean\n",
        "math_mean= statistics.mean(math_list)\n",
        "reading_mean= statistics.mean(reading_list)\n",
        "writing_mean= statistics.mean(writing_list)\n",
        "print(writing_mean)\n",
        "\n",
        "#median\n",
        "math_median= statistics.median(math_list)\n",
        "reading_median= statistics.median(reading_list)\n",
        "writing_median= statistics.median(writing_list)\n",
        "print(writing_median)\n",
        "\n",
        "#mode\n",
        "math_mode= statistics.mode(math_list)\n",
        "reading_mode= statistics.mode(reading_list)\n",
        "writing_mode= statistics.mode(writing_list)\n",
        "print(writing_mode)\n",
        "\n",
        "#standard deviation\n",
        "math_std= statistics.stdev(math_list)\n",
        "reading_std= statistics.stdev(reading_list)\n",
        "writing_std= statistics.stdev(writing_list)\n",
        "print(writing_std)\n",
        "\n",
        "#1st std\n",
        "math_1st_std_start, math_1st_std_end= math_mean-math_std, math_mean+math_std\n",
        "reading_1st_std_start, reading_1st_std_end= reading_mean-reading_std, reading_mean+reading_std\n",
        "writing_1st_std_start, writing_1st_std_end= writing_mean-writing_std, writing_mean+writing_std\n",
        "\n",
        "#2nd std\n",
        "math_2nd_std_start, math_2nd_std_end= math_mean-(math_std*2), math_mean+(math_std*2)\n",
        "reading_2nd_std_start, reading_2nd_std_end= reading_mean-(reading_std*2), reading_mean+(reading_std*2)\n",
        "writing_2nd_std_start, writing_2nd_std_end= writing_mean-(writing_std*2), writing_mean+(writing_std*2)\n",
        "\n",
        "#3rd std\n",
        "math_3rd_std_start, math_3rd_std_end= math_mean-(math_std*3), math_mean+(math_std*3)\n",
        "reading_3rd_std_start, reading_3rd_std_end= reading_mean-(reading_std*3), reading_mean+(reading_std*3)\n",
        "writing_3rd_std_start, writing_3rd_std_end= writing_mean-(writing_std*3), writing_mean+(writing_std*3)\n",
        "\n",
        "#math std print\n",
        "math_list_data_1st_std= [result for result in math_list if result> math_1st_std_start and result< math_1st_std_end]\n",
        "print(\"{}% of data per math lies within 1st stdev\".format(len(math_list_data_1st_std)*100.0/len(math_list)))\n",
        "\n",
        "math_list_data_2nd_std= [result for result in math_list if result> math_2nd_std_start and result< math_2nd_std_end]\n",
        "print(\"{}% of data per math lies within 2nd stdev\".format(len(math_list_data_2nd_std)*100.0/len(math_list)))\n",
        "\n",
        "math_list_data_3rd_std= [result for result in math_list if result> math_3rd_std_start and result< math_3rd_std_end]\n",
        "print(\"{}% of data per math lies within 3rd stdev\".format(len(math_list_data_3rd_std)*100.0/len(math_list)))\n",
        "\n",
        "#reading std print\n",
        "reading_list_data_1st_std= [result for result in reading_list if result> reading_1st_std_start and result< reading_1st_std_end]\n",
        "print(\"{}% of data per reading lies within 1st stdev\".format(len(reading_list_data_1st_std)*100.0/len(reading_list)))\n",
        "\n",
        "reading_list_data_2nd_std= [result for result in reading_list if result> reading_2nd_std_start and result< reading_2nd_std_end]\n",
        "print(\"{}% of data per reading lies within 2nd stdev\".format(len(reading_list_data_2nd_std)*100.0/len(reading_list)))\n",
        "\n",
        "reading_list_data_3rd_std= [result for result in reading_list if result> reading_3rd_std_start and result< reading_3rd_std_end]\n",
        "print(\"{}% of data per reading lies within 3rd stdev\".format(len(reading_list_data_3rd_std)*100.0/len(reading_list)))\n",
        "\n",
        "#writing std print\n",
        "writing_list_data_1st_std= [result for result in writing_list if result> writing_1st_std_start and result< writing_1st_std_end]\n",
        "print(\"{}% of data per writing lies within 1st stdev\".format(len(writing_list_data_1st_std)*100.0/len(writing_list)))\n",
        "\n",
        "writing_list_data_2nd_std= [result for result in writing_list if result> writing_2nd_std_start and result< writing_2nd_std_end]\n",
        "print(\"{}% of data per writing lies within 2nd stdev\".format(len(writing_list_data_2nd_std)*100.0/len(writing_list)))\n",
        "\n",
        "writing_list_data_3rd_std= [result for result in writing_list if result> writing_3rd_std_start and result< writing_3rd_std_end]\n",
        "print(\"{}% of data per writing lies within 3rd stdev\".format(len(writing_list_data_3rd_std)*100.0/len(writing_list)))"
      ],
      "execution_count": 3,
      "outputs": [
        {
          "output_type": "stream",
          "name": "stdout",
          "text": [
            "68.054\n",
            "69.0\n",
            "74\n",
            "15.19565701086965\n",
            "69.6% of data per math lies within 1st stdev\n",
            "95.4% of data per math lies within 2nd stdev\n",
            "99.6% of data per math lies within 3rd stdev\n",
            "66.4% of data per reading lies within 1st stdev\n",
            "95.4% of data per reading lies within 2nd stdev\n",
            "99.6% of data per reading lies within 3rd stdev\n",
            "68.8% of data per writing lies within 1st stdev\n",
            "95.8% of data per writing lies within 2nd stdev\n",
            "99.6% of data per writing lies within 3rd stdev\n"
          ]
        }
      ]
    }
  ]
}