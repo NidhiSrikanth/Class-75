{
  "nbformat": 4,
  "nbformat_minor": 0,
  "metadata": {
    "colab": {
      "name": "class 109",
      "provenance": [],
      "authorship_tag": "ABX9TyPMzfvOjp8/cK1IG5aOqO8N",
      "include_colab_link": true
    },
    "kernelspec": {
      "name": "python3",
      "display_name": "Python 3"
    },
    "language_info": {
      "name": "python"
    }
  },
  "cells": [
    {
      "cell_type": "markdown",
      "metadata": {
        "id": "view-in-github",
        "colab_type": "text"
      },
      "source": [
        "<a href=\"https://colab.research.google.com/github/NidhiSrikanth/Class-75/blob/main/class_109.ipynb\" target=\"_parent\"><img src=\"https://colab.research.google.com/assets/colab-badge.svg\" alt=\"Open In Colab\"/></a>"
      ]
    },
    {
      "cell_type": "code",
      "metadata": {
        "colab": {
          "base_uri": "https://localhost:8080/"
        },
        "id": "gY2s19aTA6Ml",
        "outputId": "a524af34-3669-4507-a0d4-61bc9f85be05"
      },
      "source": [
        "import pandas as pd\n",
        "import statistics\n",
        "import csv\n",
        "\n",
        "df= pd.read_csv(\"data.csv\")\n",
        "#print(df)\n",
        "height_list= df[\"Height(Inches)\"].to_list()\n",
        "#print(height_list)\n",
        "weight_list= df[\"Weight(Pounds)\"].to_list()\n",
        "\n",
        "#mean\n",
        "height_mean= statistics.mean(height_list)\n",
        "weight_mean= statistics.mean(weight_list)\n",
        "print(weight_mean)\n",
        "\n",
        "#median\n",
        "height_median= statistics.median(height_list)\n",
        "weight_median= statistics.median(weight_list)\n",
        "print(weight_median)\n",
        "\n",
        "#mode\n",
        "#height_mode= statistics.mode(height_list)\n",
        "weight_mode= statistics.mode(weight_list)\n",
        "print(weight_mode)\n",
        "\n",
        "#standard deviation\n",
        "height_std= statistics.stdev(height_list)\n",
        "weight_std= statistics.stdev(weight_list)\n",
        "print(weight_std)\n",
        "\n",
        "#1st std\n",
        "height_1st_std_start, height_1st_std_end= height_mean-height_std, height_mean+height_std\n",
        "\n",
        "#2nd std\n",
        "height_2nd_std_start, height_2nd_std_end= height_mean-(height_std*2), height_mean+(height_std*2)\n",
        "\n",
        "#3rd std\n",
        "height_3rd_std_start, height_3rd_std_end= height_mean-(height_std*3), height_mean+(height_std*3)\n",
        "\n",
        "height_list_data_1st_std= [result for result in height_list if result> height_1st_std_start and result< height_1st_std_end]\n",
        "print(\"{}% of data per height lies within 1st stdev\".format(len(height_list_data_1st_std)*100.0/len(height_list)))\n",
        "\n",
        "height_list_data_2nd_std= [result for result in height_list if result> height_2nd_std_start and result< height_2nd_std_end]\n",
        "print(\"{}% of data per height lies within 2nd stdev\".format(len(height_list_data_2nd_std)*100.0/len(height_list)))\n",
        "\n",
        "height_list_data_3rd_std= [result for result in height_list if result> height_3rd_std_start and result< height_3rd_std_end]\n",
        "print(\"{}% of data per height lies within 3rd stdev\".format(len(height_list_data_3rd_std)*100.0/len(height_list)))"
      ],
      "execution_count": 20,
      "outputs": [
        {
          "output_type": "stream",
          "name": "stdout",
          "text": [
            "127.0794211608\n",
            "127.15775\n",
            "124.7975\n",
            "11.660897563604278\n",
            "68.356% of data per height lies within 1st stdev\n",
            "95.46% of data per height lies within 2nd stdev\n",
            "99.796% of data per height lies within 3rd stdev\n"
          ]
        }
      ]
    }
  ]
}